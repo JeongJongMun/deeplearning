{
 "cells": [
  {
   "cell_type": "code",
   "execution_count": 23,
   "metadata": {},
   "outputs": [
    {
     "name": "stderr",
     "output_type": "stream",
     "text": [
      "Downloading data files: 100%|██████████| 1/1 [00:00<00:00, 4017.53it/s]\n",
      "Extracting data files: 100%|██████████| 1/1 [00:00<00:00, 586.37it/s]\n",
      "Generating train split: 4 examples [00:00, 1336.30 examples/s]\n"
     ]
    }
   ],
   "source": [
    "import os\n",
    "import requests\n",
    "import tiktoken\n",
    "import numpy as np\n",
    "from tqdm import tqdm\n",
    "from datasets import load_dataset # huggingface datasets\n",
    "# download the tiny shakespeare dataset\n",
    "input_file_path = os.path.join(os.getcwd(), 'input.txt')\n",
    "\n",
    "if not os.path.exists(input_file_path):\n",
    "    #data_url = 'https://raw.githubusercontent.com/karpathy/char-rnn/master/data/tinyshakespeare/input.txt'\n",
    "    data_url = 'https://blog.kakaocdn.net/dn/b7i2cP/btqxwD0YQqv/CFVxWIVk0gIxRFwN29LV6k/%EC%95%A0%EA%B5%AD%EA%B0%80.txt?attach=1&knm=tfile.txt'\n",
    "    with open(input_file_path, 'w') as f:\n",
    "        f.write(requests.get(data_url).text)\n",
    "\n",
    "dataset = load_dataset(\"text\", data_files=\"input.txt\")\n",
    "# input.txt by default only contains the 'train' split, so create a test split\n",
    "split_dataset = dataset[\"train\"].train_test_split(test_size=0.1, seed=2357, shuffle=True)\n",
    "split_dataset['val'] = split_dataset.pop('test') # rename the test split to val\n"
   ]
  },
  {
   "cell_type": "code",
   "execution_count": 24,
   "metadata": {},
   "outputs": [
    {
     "data": {
      "text/plain": [
       "dict_items([('train', Dataset({\n",
       "    features: ['text'],\n",
       "    num_rows: 3\n",
       "})), ('val', Dataset({\n",
       "    features: ['text'],\n",
       "    num_rows: 1\n",
       "}))])"
      ]
     },
     "execution_count": 24,
     "metadata": {},
     "output_type": "execute_result"
    }
   ],
   "source": [
    "split_dataset.items()"
   ]
  },
  {
   "cell_type": "code",
   "execution_count": 25,
   "metadata": {},
   "outputs": [
    {
     "data": {
      "text/plain": [
       "{'text': ['동해물과 백두산이 마르고 닳도록', '무궁화 삼천리 화려 강산', '하느님이 보우하사 우리나라 만세']}"
      ]
     },
     "execution_count": 25,
     "metadata": {},
     "output_type": "execute_result"
    }
   ],
   "source": [
    "split_dataset['train'][0:10]"
   ]
  },
  {
   "cell_type": "code",
   "execution_count": 30,
   "metadata": {},
   "outputs": [
    {
     "name": "stdout",
     "output_type": "stream",
     "text": [
      "tensor([[[ 9, 10, 11, 12]],\n",
      "\n",
      "        [[21, 22, 23, 24]]])\n"
     ]
    }
   ],
   "source": [
    "import torch\n",
    "\n",
    "x = torch.tensor([\n",
    "[[1, 2, 3, 4], [5, 6, 7, 8], [9, 10, 11, 12]],\n",
    "[[13, 14, 15, 16], [17, 18, 19, 20], [21, 22, 23, 24]]\n",
    "])\n",
    "\n",
    "sliced_x = x[:, [-1], :]\n",
    "\n",
    "print(sliced_x)"
   ]
  }
 ],
 "metadata": {
  "kernelspec": {
   "display_name": "Python 3",
   "language": "python",
   "name": "python3"
  },
  "language_info": {
   "codemirror_mode": {
    "name": "ipython",
    "version": 3
   },
   "file_extension": ".py",
   "mimetype": "text/x-python",
   "name": "python",
   "nbconvert_exporter": "python",
   "pygments_lexer": "ipython3",
   "version": "3.8.10"
  },
  "orig_nbformat": 4
 },
 "nbformat": 4,
 "nbformat_minor": 2
}
