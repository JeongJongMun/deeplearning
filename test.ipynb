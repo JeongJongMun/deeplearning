{
 "cells": [
  {
   "cell_type": "code",
   "execution_count": 90,
   "metadata": {},
   "outputs": [
    {
     "name": "stdout",
     "output_type": "stream",
     "text": [
      "[[ 0.  1.  2.  3.]\n",
      " [ 4.  5.  6.  7.]\n",
      " [ 8.  9. 10. 11.]]\n"
     ]
    }
   ],
   "source": [
    "from tempfile import mkdtemp\n",
    "import numpy as np\n",
    "import os\n",
    "\n",
    "# 임시 경로에 파일 생성\n",
    "filename = os.path.join(mkdtemp(), 'newfile.dat')\n",
    "\n",
    "# memmap 설정\t\t# mode\n",
    "dtype = 'float32'\t# r: 기존 파일 읽기\n",
    "mode = 'w+'\t\t\t# w+: 새로운 파일 생성, 기존 파일 읽기/쓰기\n",
    "shape = (3, 4)\t\t# r+: 기존 파일 읽기/쓰기\n",
    "\t\t\t\t\t# default: r+\n",
    "\n",
    "# 임의의 데이터 생성\n",
    "data = np.array(np.arange(12)).reshape(3, 4)\n",
    "\n",
    "# fp라는 memmap 객체를 생성\n",
    "fp = np.memmap(filename=filename, dtype=dtype, mode=mode, shape=shape)\n",
    "\n",
    "# fp에 데이터 저장\n",
    "fp[:] = data[:]\n",
    "\n",
    "# fp의 변경 사항을 디스크의 파일에 저장\n",
    "fp.flush()\n",
    "\n",
    "# 디스크의 파일에 저장된 데이터를 가져오기\n",
    "fp2 = np.memmap(filename=filename, dtype=dtype, mode='r+', shape=shape)\n",
    "\n",
    "print(fp2)"
   ]
  }
 ],
 "metadata": {
  "kernelspec": {
   "display_name": "Python 3",
   "language": "python",
   "name": "python3"
  },
  "language_info": {
   "codemirror_mode": {
    "name": "ipython",
    "version": 3
   },
   "file_extension": ".py",
   "mimetype": "text/x-python",
   "name": "python",
   "nbconvert_exporter": "python",
   "pygments_lexer": "ipython3",
   "version": "3.8.10"
  }
 },
 "nbformat": 4,
 "nbformat_minor": 2
}
