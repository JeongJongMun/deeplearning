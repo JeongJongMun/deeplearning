{
 "cells": [
  {
   "cell_type": "code",
   "execution_count": 48,
   "metadata": {},
   "outputs": [
    {
     "name": "stdout",
     "output_type": "stream",
     "text": [
      "dict_items([('train', Dataset({\n",
      "    features: ['text'],\n",
      "    num_rows: 36000\n",
      "})), ('val', Dataset({\n",
      "    features: ['text'],\n",
      "    num_rows: 4000\n",
      "}))]) \n",
      "\n",
      "often give us soldiers the lie: but we pay them for\n"
     ]
    }
   ],
   "source": [
    "import os\n",
    "import requests\n",
    "import tiktoken\n",
    "import numpy as np\n",
    "from tqdm import tqdm\n",
    "from datasets import load_dataset # huggingface datasets\n",
    "\n",
    "# download the tiny shakespeare dataset or load it from a local file\n",
    "# os.getcwd() returns the current working directory\n",
    "input_file_path = os.path.join(os.getcwd(), 'input.txt')\n",
    "if not os.path.exists(input_file_path):\n",
    "    data_url = 'https://raw.githubusercontent.com/karpathy/char-rnn/master/data/tinyshakespeare/input.txt'\n",
    "    with open(input_file_path, 'w') as f:\n",
    "        f.write(requests.get(data_url).text)\n",
    "    \n",
    "dataset = load_dataset(\"text\", data_files=\"input.txt\")\n",
    "\n",
    "# input.txt by default only contains the 'train' split, so create a test split\n",
    "split_dataset = dataset[\"train\"].train_test_split(test_size=0.1, seed=2357, shuffle=True)\n",
    "split_dataset['val'] = split_dataset.pop('test') # rename the test split to val\n",
    "\n",
    "print(split_dataset.items(), '\\n')\n",
    "\n",
    "print(split_dataset['train'][10]['text'])\n",
    "# split_dataset['train'][0 ~ 35999]['text'] = \"often give us ...\"\n",
    "# split_dataset['val'][0 ~ 3999]['text'] = \"thee, and ...\""
   ]
  },
  {
   "cell_type": "code",
   "execution_count": 51,
   "metadata": {},
   "outputs": [
    {
     "name": "stdout",
     "output_type": "stream",
     "text": [
      "dict_items([('train', Dataset({\n",
      "    features: ['text'],\n",
      "    num_rows: 36000\n",
      "})), ('val', Dataset({\n",
      "    features: ['text'],\n",
      "    num_rows: 4000\n",
      "}))]) \n",
      "\n",
      "dict_items([('train', Dataset({\n",
      "    features: ['ids', 'len'],\n",
      "    num_rows: 36000\n",
      "})), ('val', Dataset({\n",
      "    features: ['ids', 'len'],\n",
      "    num_rows: 4000\n",
      "}))]) \n",
      "\n"
     ]
    }
   ],
   "source": [
    "num_proc = 2\n",
    "enc = tiktoken.get_encoding(\"gpt2\")\n",
    "\n",
    "def process(example):\n",
    "    ids = enc.encode_ordinary(example['text'])\n",
    "    ids.append(enc.eot_token)\n",
    "    out = {'ids': ids, 'len': len(ids)}\n",
    "    return out\n",
    "\n",
    "# tokenize the dataset\n",
    "tokenized = split_dataset.map(\n",
    "    process,\n",
    "    remove_columns=['text'],\n",
    "    desc=\"tokenizing the splits\",\n",
    "    num_proc=num_proc,\n",
    ")\n",
    "print(split_dataset.items(), '\\n')\n",
    "print(tokenized.items(), '\\n')\n",
    "\n"
   ]
  },
  {
   "cell_type": "code",
   "execution_count": null,
   "metadata": {},
   "outputs": [],
   "source": [
    "print(tokenized.items())"
   ]
  }
 ],
 "metadata": {
  "kernelspec": {
   "display_name": "Python 3",
   "language": "python",
   "name": "python3"
  },
  "language_info": {
   "codemirror_mode": {
    "name": "ipython",
    "version": 3
   },
   "file_extension": ".py",
   "mimetype": "text/x-python",
   "name": "python",
   "nbconvert_exporter": "python",
   "pygments_lexer": "ipython3",
   "version": "3.8.10"
  }
 },
 "nbformat": 4,
 "nbformat_minor": 2
}
