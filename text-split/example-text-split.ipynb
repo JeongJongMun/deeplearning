{
 "cells": [
  {
   "cell_type": "code",
   "execution_count": 2,
   "metadata": {},
   "outputs": [],
   "source": [
    "with open('./data/state_of_the_union.txt') as f:\n",
    "    state_of_the_union = f.read()"
   ]
  },
  {
   "cell_type": "code",
   "execution_count": 4,
   "metadata": {},
   "outputs": [
    {
     "name": "stdout",
     "output_type": "stream",
     "text": [
      "410\n"
     ]
    },
    {
     "data": {
      "text/plain": [
       "'Madam Speaker, Madam Vice President, our First Lady and Second Gentleman. Members of Congress and the Cabinet. Justices of the Supreme Court. My fellow Americans.  \\n\\nLast year COVID-19 kept us apart. This year we are finally together again. \\n\\nTonight, we meet as Democrats Republicans and Independents. But most importantly as Americans. \\n\\nWith a duty to one another to the American people to the Constitution.'"
      ]
     },
     "execution_count": 4,
     "metadata": {},
     "output_type": "execute_result"
    }
   ],
   "source": [
    "from langchain.text_splitter import CharacterTextSplitter\n",
    "\n",
    "text_splitter = CharacterTextSplitter.from_tiktoken_encoder(        \n",
    "    \n",
    "    chunk_size=100,\n",
    "    chunk_overlap=1,\n",
    ")\n",
    "\n",
    "texts = text_splitter.split_text(state_of_the_union)\n",
    "print(len(texts[0]))\n",
    "texts[0]"
   ]
  },
  {
   "cell_type": "code",
   "execution_count": 5,
   "metadata": {},
   "outputs": [],
   "source": [
    "import tiktoken\n",
    "tokenizer = tiktoken.encoding_for_model('gpt-3.5-turbo')"
   ]
  },
  {
   "cell_type": "code",
   "execution_count": 6,
   "metadata": {},
   "outputs": [
    {
     "name": "stdout",
     "output_type": "stream",
     "text": [
      "86 [38136, 309, 30173, 11, 9671, 309, 23270, 4900, 11, 1057, 5629, 21270, 323, 10657, 74569, 1543, 13, 17384, 315, 8151, 323, 279, 34046, 13, 4702, 1238, 315, 279, 13814, 7301, 13, 3092, 12637, 9053, 13, 19124, 5966, 1060, 20562, 12, 777, 8774, 603, 10980, 13, 1115, 1060, 584, 527, 5616, 3871, 1578, 13, 4815, 90243, 11, 584, 3449, 439, 12643, 13063, 323, 17565, 812, 13, 2030, 1455, 23659, 439, 9053, 13, 4815, 2409, 264, 14523, 311, 832, 2500, 311, 279, 3778, 1274, 311, 279, 18039, 13]\n"
     ]
    }
   ],
   "source": [
    "tokens = tokenizer.encode(texts[0])\n",
    "print(len(tokens), tokens)"
   ]
  },
  {
   "cell_type": "code",
   "execution_count": null,
   "metadata": {},
   "outputs": [],
   "source": []
  },
  {
   "cell_type": "code",
   "execution_count": null,
   "metadata": {},
   "outputs": [],
   "source": []
  }
 ],
 "metadata": {
  "kernelspec": {
   "display_name": "base",
   "language": "python",
   "name": "python3"
  },
  "language_info": {
   "codemirror_mode": {
    "name": "ipython",
    "version": 3
   },
   "file_extension": ".py",
   "mimetype": "text/x-python",
   "name": "python",
   "nbconvert_exporter": "python",
   "pygments_lexer": "ipython3",
   "version": "3.8.10"
  },
  "orig_nbformat": 4
 },
 "nbformat": 4,
 "nbformat_minor": 2
}
