{
 "cells": [
  {
   "cell_type": "code",
   "execution_count": 1,
   "metadata": {},
   "outputs": [],
   "source": [
    "import openai\n",
    "import tiktoken\n",
    "import langchain\n",
    "cl100k = 'cl100k_base'\n",
    "gpt_3 = 'gpt-3.5-turbo'\n",
    "gpt_4 = 'gpt-4'\n",
    "\n",
    "tokenizer = tiktoken.get_encoding(cl100k)\n",
    "# tokenizer = tiktoken.encoding_for_model(gpt_3)"
   ]
  },
  {
   "cell_type": "code",
   "execution_count": 2,
   "metadata": {},
   "outputs": [],
   "source": [
    "sentences = \"Hi, advanced deeplearning students! I am tiktoken tokenizer!\""
   ]
  },
  {
   "cell_type": "code",
   "execution_count": 3,
   "metadata": {},
   "outputs": [
    {
     "name": "stdout",
     "output_type": "stream",
     "text": [
      "[13347, 11, 11084, 45833, 698, 3256, 4236, 0, 358, 1097, 87272, 5963, 47058, 0]\n"
     ]
    }
   ],
   "source": [
    "tokens = tokenizer.encode(sentences)\n",
    "print(tokens)"
   ]
  },
  {
   "cell_type": "code",
   "execution_count": 4,
   "metadata": {},
   "outputs": [
    {
     "data": {
      "text/plain": [
       "'Hi, advanced deeplearning students! I am tiktoken tokenizer!'"
      ]
     },
     "execution_count": 4,
     "metadata": {},
     "output_type": "execute_result"
    }
   ],
   "source": [
    "tokenizer.decode(tokens)"
   ]
  },
  {
   "cell_type": "code",
   "execution_count": 5,
   "metadata": {},
   "outputs": [
    {
     "name": "stdout",
     "output_type": "stream",
     "text": [
      "['Hi', ',', ' advanced', ' dee', 'ple', 'arning', ' students', '!', ' I', ' am', ' tik', 'token', ' tokenizer', '!']\n"
     ]
    }
   ],
   "source": [
    "strs = [tokenizer.decode([t]) for t in tokens]\n",
    "print(strs)"
   ]
  },
  {
   "cell_type": "code",
   "execution_count": 6,
   "metadata": {},
   "outputs": [
    {
     "name": "stdout",
     "output_type": "stream",
     "text": [
      "['t', 'ik', 'token', ' is', ' great', '!']\n"
     ]
    }
   ],
   "source": [
    "st1 = 'tiktoken is great!'\n",
    "tokens = tokenizer.encode(st1)\n",
    "strs = [tokenizer.decode([t]) for t in tokens]\n",
    "print(strs)\n"
   ]
  },
  {
   "cell_type": "code",
   "execution_count": 7,
   "metadata": {},
   "outputs": [
    {
     "name": "stdout",
     "output_type": "stream",
     "text": [
      "[83, 1609, 5963, 374, 2294, 0]\n"
     ]
    }
   ],
   "source": [
    "print(tokens)"
   ]
  },
  {
   "cell_type": "code",
   "execution_count": 8,
   "metadata": {},
   "outputs": [],
   "source": [
    "batch = [st1, sentences]"
   ]
  },
  {
   "cell_type": "code",
   "execution_count": 9,
   "metadata": {},
   "outputs": [
    {
     "name": "stdout",
     "output_type": "stream",
     "text": [
      "[[83, 1609, 5963, 374, 2294, 0], [13347, 11, 11084, 45833, 698, 3256, 4236, 0, 358, 1097, 87272, 5963, 47058, 0]]\n"
     ]
    }
   ],
   "source": [
    "batch_tokens = tokenizer.encode_batch(batch)\n",
    "print(batch_tokens)"
   ]
  },
  {
   "cell_type": "code",
   "execution_count": null,
   "metadata": {},
   "outputs": [],
   "source": []
  }
 ],
 "metadata": {
  "kernelspec": {
   "display_name": "lectures",
   "language": "python",
   "name": "python3"
  },
  "language_info": {
   "codemirror_mode": {
    "name": "ipython",
    "version": 3
   },
   "file_extension": ".py",
   "mimetype": "text/x-python",
   "name": "python",
   "nbconvert_exporter": "python",
   "pygments_lexer": "ipython3",
   "version": "3.8.10"
  },
  "orig_nbformat": 4
 },
 "nbformat": 4,
 "nbformat_minor": 2
}
