{
 "cells": [
  {
   "cell_type": "code",
   "execution_count": 8,
   "metadata": {},
   "outputs": [],
   "source": [
    "# 환경변수로 설정된 OpenAI API Key 가져오기\n",
    "import os\n",
    "import openai\n",
    "\n",
    "openai.api_key = os.environ[\"OPENAI_API_KEY\"]"
   ]
  },
  {
   "cell_type": "markdown",
   "metadata": {},
   "source": [
    "### Dynamic few-shot prompting\n",
    "더 좋은 결과를 자동으로 가져오기 위해.."
   ]
  },
  {
   "cell_type": "code",
   "execution_count": 9,
   "metadata": {},
   "outputs": [
    {
     "name": "stdout",
     "output_type": "stream",
     "text": [
      "2.6.0\n"
     ]
    },
    {
     "ename": "RuntimeError",
     "evalue": "\u001b[91mYour system has an unsupported version of sqlite3. Chroma requires sqlite3 >= 3.35.0.\u001b[0m\n\u001b[94mPlease visit https://docs.trychroma.com/troubleshooting#sqlite to learn how to upgrade.\u001b[0m",
     "output_type": "error",
     "traceback": [
      "\u001b[0;31m---------------------------------------------------------------------------\u001b[0m",
      "\u001b[0;31mRuntimeError\u001b[0m                              Traceback (most recent call last)",
      "\u001b[1;32m/home/deeplearning/L9 LangChain.ipynb 셀 3\u001b[0m line \u001b[0;36m2\n\u001b[1;32m     <a href='vscode-notebook-cell://attached-container%2B7b22636f6e7461696e65724e616d65223a222f646c656e76227d/home/deeplearning/L9%20LangChain.ipynb#W1sdnNjb2RlLXJlbW90ZQ%3D%3D?line=21'>22</a>\u001b[0m to_vectorize \u001b[39m=\u001b[39m [\u001b[39m\"\u001b[39m\u001b[39m \u001b[39m\u001b[39m\"\u001b[39m\u001b[39m.\u001b[39mjoin(example\u001b[39m.\u001b[39mvalues()) \u001b[39mfor\u001b[39;00m example \u001b[39min\u001b[39;00m examples]\n\u001b[1;32m     <a href='vscode-notebook-cell://attached-container%2B7b22636f6e7461696e65724e616d65223a222f646c656e76227d/home/deeplearning/L9%20LangChain.ipynb#W1sdnNjb2RlLXJlbW90ZQ%3D%3D?line=22'>23</a>\u001b[0m embeddings \u001b[39m=\u001b[39m OpenAIEmbeddings()\n\u001b[0;32m---> <a href='vscode-notebook-cell://attached-container%2B7b22636f6e7461696e65724e616d65223a222f646c656e76227d/home/deeplearning/L9%20LangChain.ipynb#W1sdnNjb2RlLXJlbW90ZQ%3D%3D?line=23'>24</a>\u001b[0m vectorstore \u001b[39m=\u001b[39m Chroma\u001b[39m.\u001b[39;49mfrom_texts(to_vectorize, embeddings, metadatas\u001b[39m=\u001b[39;49mexamples)\n\u001b[1;32m     <a href='vscode-notebook-cell://attached-container%2B7b22636f6e7461696e65724e616d65223a222f646c656e76227d/home/deeplearning/L9%20LangChain.ipynb#W1sdnNjb2RlLXJlbW90ZQ%3D%3D?line=25'>26</a>\u001b[0m example_selector \u001b[39m=\u001b[39m SemanticSimilarityExampleSelector(\n\u001b[1;32m     <a href='vscode-notebook-cell://attached-container%2B7b22636f6e7461696e65724e616d65223a222f646c656e76227d/home/deeplearning/L9%20LangChain.ipynb#W1sdnNjb2RlLXJlbW90ZQ%3D%3D?line=26'>27</a>\u001b[0m     vectorstore\u001b[39m=\u001b[39mvectorstore,\n\u001b[1;32m     <a href='vscode-notebook-cell://attached-container%2B7b22636f6e7461696e65724e616d65223a222f646c656e76227d/home/deeplearning/L9%20LangChain.ipynb#W1sdnNjb2RlLXJlbW90ZQ%3D%3D?line=27'>28</a>\u001b[0m     k\u001b[39m=\u001b[39m\u001b[39m2\u001b[39m,\n\u001b[1;32m     <a href='vscode-notebook-cell://attached-container%2B7b22636f6e7461696e65724e616d65223a222f646c656e76227d/home/deeplearning/L9%20LangChain.ipynb#W1sdnNjb2RlLXJlbW90ZQ%3D%3D?line=28'>29</a>\u001b[0m )\n\u001b[1;32m     <a href='vscode-notebook-cell://attached-container%2B7b22636f6e7461696e65724e616d65223a222f646c656e76227d/home/deeplearning/L9%20LangChain.ipynb#W1sdnNjb2RlLXJlbW90ZQ%3D%3D?line=30'>31</a>\u001b[0m \u001b[39m# Define the few-shot prompt.\u001b[39;00m\n",
      "File \u001b[0;32m/usr/local/lib/python3.8/dist-packages/langchain/vectorstores/chroma.py:567\u001b[0m, in \u001b[0;36mChroma.from_texts\u001b[0;34m(cls, texts, embedding, metadatas, ids, collection_name, persist_directory, client_settings, client, collection_metadata, **kwargs)\u001b[0m\n\u001b[1;32m    534\u001b[0m \u001b[39m@classmethod\u001b[39m\n\u001b[1;32m    535\u001b[0m \u001b[39mdef\u001b[39;00m \u001b[39mfrom_texts\u001b[39m(\n\u001b[1;32m    536\u001b[0m     \u001b[39mcls\u001b[39m: Type[Chroma],\n\u001b[0;32m   (...)\u001b[0m\n\u001b[1;32m    546\u001b[0m     \u001b[39m*\u001b[39m\u001b[39m*\u001b[39mkwargs: Any,\n\u001b[1;32m    547\u001b[0m ) \u001b[39m-\u001b[39m\u001b[39m>\u001b[39m Chroma:\n\u001b[1;32m    548\u001b[0m \u001b[39m    \u001b[39m\u001b[39m\"\"\"Create a Chroma vectorstore from a raw documents.\u001b[39;00m\n\u001b[1;32m    549\u001b[0m \n\u001b[1;32m    550\u001b[0m \u001b[39m    If a persist_directory is specified, the collection will be persisted there.\u001b[39;00m\n\u001b[0;32m   (...)\u001b[0m\n\u001b[1;32m    565\u001b[0m \u001b[39m        Chroma: Chroma vectorstore.\u001b[39;00m\n\u001b[1;32m    566\u001b[0m \u001b[39m    \"\"\"\u001b[39;00m\n\u001b[0;32m--> 567\u001b[0m     chroma_collection \u001b[39m=\u001b[39m \u001b[39mcls\u001b[39;49m(\n\u001b[1;32m    568\u001b[0m         collection_name\u001b[39m=\u001b[39;49mcollection_name,\n\u001b[1;32m    569\u001b[0m         embedding_function\u001b[39m=\u001b[39;49membedding,\n\u001b[1;32m    570\u001b[0m         persist_directory\u001b[39m=\u001b[39;49mpersist_directory,\n\u001b[1;32m    571\u001b[0m         client_settings\u001b[39m=\u001b[39;49mclient_settings,\n\u001b[1;32m    572\u001b[0m         client\u001b[39m=\u001b[39;49mclient,\n\u001b[1;32m    573\u001b[0m         collection_metadata\u001b[39m=\u001b[39;49mcollection_metadata,\n\u001b[1;32m    574\u001b[0m         \u001b[39m*\u001b[39;49m\u001b[39m*\u001b[39;49mkwargs,\n\u001b[1;32m    575\u001b[0m     )\n\u001b[1;32m    576\u001b[0m     chroma_collection\u001b[39m.\u001b[39madd_texts(texts\u001b[39m=\u001b[39mtexts, metadatas\u001b[39m=\u001b[39mmetadatas, ids\u001b[39m=\u001b[39mids)\n\u001b[1;32m    577\u001b[0m     \u001b[39mreturn\u001b[39;00m chroma_collection\n",
      "File \u001b[0;32m/usr/local/lib/python3.8/dist-packages/langchain/vectorstores/chroma.py:80\u001b[0m, in \u001b[0;36mChroma.__init__\u001b[0;34m(self, collection_name, embedding_function, persist_directory, client_settings, collection_metadata, client, relevance_score_fn)\u001b[0m\n\u001b[1;32m     78\u001b[0m \u001b[39m\u001b[39m\u001b[39m\"\"\"Initialize with a Chroma client.\"\"\"\u001b[39;00m\n\u001b[1;32m     79\u001b[0m \u001b[39mtry\u001b[39;00m:\n\u001b[0;32m---> 80\u001b[0m     \u001b[39mimport\u001b[39;00m \u001b[39mchromadb\u001b[39;00m\n\u001b[1;32m     81\u001b[0m     \u001b[39mimport\u001b[39;00m \u001b[39mchromadb\u001b[39;00m\u001b[39m.\u001b[39;00m\u001b[39mconfig\u001b[39;00m\n\u001b[1;32m     82\u001b[0m \u001b[39mexcept\u001b[39;00m \u001b[39mImportError\u001b[39;00m:\n",
      "File \u001b[0;32m/usr/local/lib/python3.8/dist-packages/chromadb/__init__.py:77\u001b[0m\n\u001b[1;32m     75\u001b[0m             sys\u001b[39m.\u001b[39mmodules[\u001b[39m\"\u001b[39m\u001b[39msqlite3\u001b[39m\u001b[39m\"\u001b[39m] \u001b[39m=\u001b[39m sys\u001b[39m.\u001b[39mmodules\u001b[39m.\u001b[39mpop(\u001b[39m\"\u001b[39m\u001b[39mpysqlite3\u001b[39m\u001b[39m\"\u001b[39m)\n\u001b[1;32m     76\u001b[0m         \u001b[39melse\u001b[39;00m:\n\u001b[0;32m---> 77\u001b[0m             \u001b[39mraise\u001b[39;00m \u001b[39mRuntimeError\u001b[39;00m(\n\u001b[1;32m     78\u001b[0m                 \u001b[39m\"\u001b[39m\u001b[39m\\033\u001b[39;00m\u001b[39m[91mYour system has an unsupported version of sqlite3. Chroma requires sqlite3 >= 3.35.0.\u001b[39m\u001b[39m\\033\u001b[39;00m\u001b[39m[0m\u001b[39m\u001b[39m\\n\u001b[39;00m\u001b[39m\"\u001b[39m\n\u001b[1;32m     79\u001b[0m                 \u001b[39m\"\u001b[39m\u001b[39m\\033\u001b[39;00m\u001b[39m[94mPlease visit https://docs.trychroma.com/troubleshooting#sqlite to learn how to upgrade.\u001b[39m\u001b[39m\\033\u001b[39;00m\u001b[39m[0m\u001b[39m\u001b[39m\"\u001b[39m\n\u001b[1;32m     80\u001b[0m             )\n\u001b[1;32m     83\u001b[0m \u001b[39mdef\u001b[39;00m \u001b[39mconfigure\u001b[39m(\u001b[39m*\u001b[39m\u001b[39m*\u001b[39mkwargs) \u001b[39m-\u001b[39m\u001b[39m>\u001b[39m \u001b[39mNone\u001b[39;00m:  \u001b[39m# type: ignore\u001b[39;00m\n\u001b[1;32m     84\u001b[0m \u001b[39m    \u001b[39m\u001b[39m\"\"\"Override Chroma's default settings, environment variables or .env files\"\"\"\u001b[39;00m\n",
      "\u001b[0;31mRuntimeError\u001b[0m: \u001b[91mYour system has an unsupported version of sqlite3. Chroma requires sqlite3 >= 3.35.0.\u001b[0m\n\u001b[94mPlease visit https://docs.trychroma.com/troubleshooting#sqlite to learn how to upgrade.\u001b[0m"
     ]
    }
   ],
   "source": [
    "from langchain.llms import OpenAI\n",
    "from langchain.embeddings.openai import OpenAIEmbeddings\n",
    "from langchain.vectorstores import Chroma\n",
    "from langchain.prompts.example_selector.semantic_similarity import SemanticSimilarityExampleSelector\n",
    "from langchain.prompts.few_shot import FewShotChatMessagePromptTemplate\n",
    "from langchain.prompts.chat import ChatPromptTemplate\n",
    "from langchain.chat_models.openai import ChatOpenAI\n",
    "import sqlite3\n",
    "\n",
    "print(sqlite3.version)\n",
    "\n",
    "examples = [\n",
    "{\"input\": \"2+2\", \"output\": \"4\"},\n",
    "{\"input\": \"2+3\", \"output\": \"5\"},\n",
    "{\"input\": \"2+4\", \"output\": \"6\"},\n",
    "{\"input\": \"What did the cow say to the moon?\", \"output\": \"nothing at all\"},\n",
    "{\n",
    "\"input\": \"Write me a poem about the moon\",\n",
    "\"output\": \"One for the moon, and one for me, who are we to talk about the moon?\",\n",
    "},\n",
    "]\n",
    "\n",
    "to_vectorize = [\" \".join(example.values()) for example in examples]\n",
    "embeddings = OpenAIEmbeddings()\n",
    "vectorstore = Chroma.from_texts(to_vectorize, embeddings, metadatas=examples)\n",
    "\n",
    "example_selector = SemanticSimilarityExampleSelector(\n",
    "    vectorstore=vectorstore,\n",
    "    k=2,\n",
    ")\n",
    "\n",
    "# Define the few-shot prompt.\n",
    "few_shot_prompt = FewShotChatMessagePromptTemplate(\n",
    "# The input variables select the values to pass to the example_selector\n",
    "input_variables=[\"input\"],\n",
    "example_selector=example_selector,\n",
    "# Define how each example will be formatted.\n",
    "# In this case, each example will become 2 messages:\n",
    "# 1 human, and 1 AI\n",
    "example_prompt=ChatPromptTemplate.from_messages(\n",
    "[(\"human\", \"{input}\"), (\"ai\", \"{output}\")]\n",
    "),\n",
    ")\n",
    "final_prompt = ChatPromptTemplate.from_messages(\n",
    "[\n",
    "(\"system\", \"You are a wondrous wizard of math.\"),\n",
    "few_shot_prompt,\n",
    "(\"human\", \"{input}\"),\n",
    "]\n",
    ")\n",
    "chain = final_prompt | ChatOpenAI(temperature=0.0)\n",
    "chain.invoke({\"input\": \"What's 3+3?\"})\n"
   ]
  },
  {
   "cell_type": "markdown",
   "metadata": {},
   "source": [
    "### PromptTemplate"
   ]
  },
  {
   "cell_type": "code",
   "execution_count": null,
   "metadata": {},
   "outputs": [],
   "source": [
    "#0) PromptTemplate.from_template() or PromptTemplate constructor\n",
    "prompt_template = PromptTemplate.from_template(\"Tell me a {adjective} story about {content}.\")\n",
    "prompt_template = PromptTemplate( input_variables = ['adjective', 'content'], template = 'Tell me a {adjective} story about {content}')\n",
    "\n",
    "#1) format to StringPromptValue\n",
    "value = prompt_template.format_prompt(adjective=\"funny\", content=\"glasses\")\n",
    "\n",
    "#2) PromptValue.to_string(), PromptValue().to_messages()\n",
    "value.to_string() == string\n",
    "value.to_messages()\n",
    "[HumanMessage(content='Tell me a funny story about glasses.', additional_kwargs={}, example=False)]\n",
    "\n",
    "#3) format to string\n",
    "string = prompt_template.format(adjective=\"funny\", content=\"glasses“)\n"
   ]
  },
  {
   "cell_type": "markdown",
   "metadata": {},
   "source": [
    "### ChatPromptTemplate\n",
    "PromptTemplate와 비교"
   ]
  },
  {
   "cell_type": "code",
   "execution_count": null,
   "metadata": {},
   "outputs": [],
   "source": [
    "# 0) ChatPromptTemplate.from_message() or ChatPromptTemplate - constructor\n",
    "chat_prompt_template = ChatPromptTemplate.from_messages([\n",
    "    ('system', \"You are a helpful AI assistant. Your name is {name}\"),\n",
    "    ('human', \"Hello, how are you doing?\"),\n",
    "    ('ai', \"I'm doing well, thanks!\"),\n",
    "    ('human', \"{user_input}\")\n",
    "])\n",
    "\n",
    "# 1) format to ChatPromptValue\n",
    "value = chat_prompt_template.format_prompt(name='Bob', user_input=\"What is your name?\")\n",
    "\n",
    "# 2) ChatPromptValue.to_string(), ChatPromptValue().to_messages()\n",
    "value.to_string() == string\n",
    "value.to_messages() == msg\n",
    "\n",
    "# 3) format to string\n",
    "string = chat_prompt_template.format(name='Bob', user_input=\"What is your name\")\n",
    "\n",
    "# 4) format to messagges - 추가된거\n",
    "msg = chat_prompt_template.format_messages(name='Bob', user_input=\"What is your name?\")\n"
   ]
  },
  {
   "cell_type": "markdown",
   "metadata": {},
   "source": [
    "### Example Samplers\n",
    "* 몇 가지 예제를 선택함으로써 LLM 모델이 유저의 요청을 더 잘 이해\n",
    "* 유저의 질문과 관련된 예제를 잘 설계하면 LLM 성능 향상\n",
    "* LangChain은 5가지 예제 샘플러 제공"
   ]
  },
  {
   "cell_type": "code",
   "execution_count": null,
   "metadata": {},
   "outputs": [],
   "source": [
    "# 1. Select by Length : LengthBasedExampleSelector\n",
    "# 2. Select by Maximal Margin Relevance : MaxMarginalRelevanceExampleSelector\n",
    "# 3. Select by n-gram similarity : NGramOverlapExampleSelector :\n",
    "# 4. Select by Similarity : SemanticSimilarityExampleSelector\n",
    "# 5. Custom Selector : CustomExampleSelector"
   ]
  },
  {
   "cell_type": "markdown",
   "metadata": {},
   "source": [
    "### Overall Steps for Dynamic Prompting\n",
    "내 정확한 의도를 알려주기 위함?\n",
    "\n",
    "다이나믹 프롬프팅의 전반적인 절차\n",
    "* 중요\n",
    "\n",
    "1. 내 앱의 예제를 준비 (데이터셋을 잘 만드는게 중요)\n",
    "2. 프롬프트 템플릿 선언\n",
    "3. 적절한 Example Sampler를 선택\n",
    "4. few shot prompt template에 예제, 프롬프트 템플릿, 예제 샘플러 합침\n",
    "5.\n",
    "6."
   ]
  },
  {
   "cell_type": "markdown",
   "metadata": {},
   "source": [
    "1) Select by Similarity"
   ]
  },
  {
   "cell_type": "code",
   "execution_count": null,
   "metadata": {},
   "outputs": [],
   "source": [
    "example_selector = SemanticSimilarityExampleSelector.from_examples(\n",
    "    # The list of examples available to select from.\n",
    "    examples, \n",
    "    # The embedding class used to produce embeddings \n",
    "    # which are used to measure semantic similarity.\n",
    "    OpenAIEmbeddings(), \n",
    "    # The VectorStore3class that is used to store the embeddings \n",
    "    # and do a similarity search over.\n",
    "    Chroma, # FAISS\n",
    "    # The number of examples to produce.\n",
    "    k=1\n",
    ")"
   ]
  },
  {
   "cell_type": "markdown",
   "metadata": {},
   "source": [
    "\"\\s+\" means one or more whitespace characters"
   ]
  },
  {
   "cell_type": "markdown",
   "metadata": {},
   "source": [
    "5) Custom Sampler – random example"
   ]
  },
  {
   "cell_type": "markdown",
   "metadata": {},
   "source": [
    "### Dynamic Prompting"
   ]
  },
  {
   "cell_type": "code",
   "execution_count": 11,
   "metadata": {},
   "outputs": [
    {
     "ename": "RuntimeError",
     "evalue": "\u001b[91mYour system has an unsupported version of sqlite3. Chroma requires sqlite3 >= 3.35.0.\u001b[0m\n\u001b[94mPlease visit https://docs.trychroma.com/troubleshooting#sqlite to learn how to upgrade.\u001b[0m",
     "output_type": "error",
     "traceback": [
      "\u001b[0;31m---------------------------------------------------------------------------\u001b[0m",
      "\u001b[0;31mRuntimeError\u001b[0m                              Traceback (most recent call last)",
      "\u001b[1;32m/home/deeplearning/L9 LangChain.ipynb 셀 16\u001b[0m line \u001b[0;36m3\n\u001b[1;32m     <a href='vscode-notebook-cell://attached-container%2B7b22636f6e7461696e65724e616d65223a222f646c656e76227d/home/deeplearning/L9%20LangChain.ipynb#X24sdnNjb2RlLXJlbW90ZQ%3D%3D?line=20'>21</a>\u001b[0m example_prompt \u001b[39m=\u001b[39m PromptTemplate(\n\u001b[1;32m     <a href='vscode-notebook-cell://attached-container%2B7b22636f6e7461696e65724e616d65223a222f646c656e76227d/home/deeplearning/L9%20LangChain.ipynb#X24sdnNjb2RlLXJlbW90ZQ%3D%3D?line=21'>22</a>\u001b[0m     input_variables\u001b[39m=\u001b[39m[\u001b[39m'\u001b[39m\u001b[39minput\u001b[39m\u001b[39m'\u001b[39m, \u001b[39m'\u001b[39m\u001b[39mtask\u001b[39m\u001b[39m'\u001b[39m, \u001b[39m'\u001b[39m\u001b[39moutput\u001b[39m\u001b[39m'\u001b[39m],\n\u001b[1;32m     <a href='vscode-notebook-cell://attached-container%2B7b22636f6e7461696e65724e616d65223a222f646c656e76227d/home/deeplearning/L9%20LangChain.ipynb#X24sdnNjb2RlLXJlbW90ZQ%3D%3D?line=22'>23</a>\u001b[0m     template\u001b[39m=\u001b[39m\u001b[39m\"\u001b[39m\u001b[39mInput: \u001b[39m\u001b[39m{input}\u001b[39;00m\u001b[39m --> \u001b[39m\u001b[39m{task}\u001b[39;00m\u001b[39m\\n\u001b[39;00m\u001b[39mOutput: \u001b[39m\u001b[39m{output}\u001b[39;00m\u001b[39m\"\u001b[39m\n\u001b[1;32m     <a href='vscode-notebook-cell://attached-container%2B7b22636f6e7461696e65724e616d65223a222f646c656e76227d/home/deeplearning/L9%20LangChain.ipynb#X24sdnNjb2RlLXJlbW90ZQ%3D%3D?line=23'>24</a>\u001b[0m )\n\u001b[1;32m     <a href='vscode-notebook-cell://attached-container%2B7b22636f6e7461696e65724e616d65223a222f646c656e76227d/home/deeplearning/L9%20LangChain.ipynb#X24sdnNjb2RlLXJlbW90ZQ%3D%3D?line=25'>26</a>\u001b[0m \u001b[39m# Step 3: Define Example Selector\u001b[39;00m\n\u001b[1;32m     <a href='vscode-notebook-cell://attached-container%2B7b22636f6e7461696e65724e616d65223a222f646c656e76227d/home/deeplearning/L9%20LangChain.ipynb#X24sdnNjb2RlLXJlbW90ZQ%3D%3D?line=26'>27</a>\u001b[0m \u001b[39m# 3.1 we define semantic-similarity-example-selector\u001b[39;00m\n\u001b[1;32m     <a href='vscode-notebook-cell://attached-container%2B7b22636f6e7461696e65724e616d65223a222f646c656e76227d/home/deeplearning/L9%20LangChain.ipynb#X24sdnNjb2RlLXJlbW90ZQ%3D%3D?line=27'>28</a>\u001b[0m \u001b[39m# 3.2 we define maximal-relevance-example-sampler\u001b[39;00m\n\u001b[0;32m   (...)\u001b[0m\n\u001b[1;32m     <a href='vscode-notebook-cell://attached-container%2B7b22636f6e7461696e65724e616d65223a222f646c656e76227d/home/deeplearning/L9%20LangChain.ipynb#X24sdnNjb2RlLXJlbW90ZQ%3D%3D?line=30'>31</a>\u001b[0m \u001b[39m# 3.5 we define custom-example-sampler\u001b[39;00m\n\u001b[1;32m     <a href='vscode-notebook-cell://attached-container%2B7b22636f6e7461696e65724e616d65223a222f646c656e76227d/home/deeplearning/L9%20LangChain.ipynb#X24sdnNjb2RlLXJlbW90ZQ%3D%3D?line=31'>32</a>\u001b[0m \u001b[39m# 위에서 본 5가지 중 한가지 선택하면 됨\u001b[39;00m\n\u001b[0;32m---> <a href='vscode-notebook-cell://attached-container%2B7b22636f6e7461696e65724e616d65223a222f646c656e76227d/home/deeplearning/L9%20LangChain.ipynb#X24sdnNjb2RlLXJlbW90ZQ%3D%3D?line=33'>34</a>\u001b[0m sms_sampler \u001b[39m=\u001b[39m SemanticSimilarityExampleSelector\u001b[39m.\u001b[39;49mfrom_examples(\n\u001b[1;32m     <a href='vscode-notebook-cell://attached-container%2B7b22636f6e7461696e65724e616d65223a222f646c656e76227d/home/deeplearning/L9%20LangChain.ipynb#X24sdnNjb2RlLXJlbW90ZQ%3D%3D?line=34'>35</a>\u001b[0m     examples, \n\u001b[1;32m     <a href='vscode-notebook-cell://attached-container%2B7b22636f6e7461696e65724e616d65223a222f646c656e76227d/home/deeplearning/L9%20LangChain.ipynb#X24sdnNjb2RlLXJlbW90ZQ%3D%3D?line=35'>36</a>\u001b[0m     OpenAIEmbeddings(), \n\u001b[1;32m     <a href='vscode-notebook-cell://attached-container%2B7b22636f6e7461696e65724e616d65223a222f646c656e76227d/home/deeplearning/L9%20LangChain.ipynb#X24sdnNjb2RlLXJlbW90ZQ%3D%3D?line=36'>37</a>\u001b[0m     Chroma, \u001b[39m# FAISS\u001b[39;49;00m\n\u001b[1;32m     <a href='vscode-notebook-cell://attached-container%2B7b22636f6e7461696e65724e616d65223a222f646c656e76227d/home/deeplearning/L9%20LangChain.ipynb#X24sdnNjb2RlLXJlbW90ZQ%3D%3D?line=37'>38</a>\u001b[0m     k\u001b[39m=\u001b[39;49m\u001b[39m1\u001b[39;49m\n\u001b[1;32m     <a href='vscode-notebook-cell://attached-container%2B7b22636f6e7461696e65724e616d65223a222f646c656e76227d/home/deeplearning/L9%20LangChain.ipynb#X24sdnNjb2RlLXJlbW90ZQ%3D%3D?line=38'>39</a>\u001b[0m )\n\u001b[1;32m     <a href='vscode-notebook-cell://attached-container%2B7b22636f6e7461696e65724e616d65223a222f646c656e76227d/home/deeplearning/L9%20LangChain.ipynb#X24sdnNjb2RlLXJlbW90ZQ%3D%3D?line=41'>42</a>\u001b[0m \u001b[39m# Step 4: Assemble examples, prompt template, and example sampler\u001b[39;00m\n\u001b[1;32m     <a href='vscode-notebook-cell://attached-container%2B7b22636f6e7461696e65724e616d65223a222f646c656e76227d/home/deeplearning/L9%20LangChain.ipynb#X24sdnNjb2RlLXJlbW90ZQ%3D%3D?line=42'>43</a>\u001b[0m \u001b[39m# 4. We assemble sampler and prompt into few-shot-prompt-template for dynamic prompting\u001b[39;00m\n\u001b[1;32m     <a href='vscode-notebook-cell://attached-container%2B7b22636f6e7461696e65724e616d65223a222f646c656e76227d/home/deeplearning/L9%20LangChain.ipynb#X24sdnNjb2RlLXJlbW90ZQ%3D%3D?line=43'>44</a>\u001b[0m \u001b[39mfrom\u001b[39;00m \u001b[39mlangchain\u001b[39;00m\u001b[39m.\u001b[39;00m\u001b[39mprompts\u001b[39;00m \u001b[39mimport\u001b[39;00m FewShotPromptTemplate\n",
      "File \u001b[0;32m/usr/local/lib/python3.8/dist-packages/langchain/prompts/example_selector/semantic_similarity.py:95\u001b[0m, in \u001b[0;36mSemanticSimilarityExampleSelector.from_examples\u001b[0;34m(cls, examples, embeddings, vectorstore_cls, k, input_keys, **vectorstore_cls_kwargs)\u001b[0m\n\u001b[1;32m     93\u001b[0m \u001b[39melse\u001b[39;00m:\n\u001b[1;32m     94\u001b[0m     string_examples \u001b[39m=\u001b[39m [\u001b[39m\"\u001b[39m\u001b[39m \u001b[39m\u001b[39m\"\u001b[39m\u001b[39m.\u001b[39mjoin(sorted_values(eg)) \u001b[39mfor\u001b[39;00m eg \u001b[39min\u001b[39;00m examples]\n\u001b[0;32m---> 95\u001b[0m vectorstore \u001b[39m=\u001b[39m vectorstore_cls\u001b[39m.\u001b[39;49mfrom_texts(\n\u001b[1;32m     96\u001b[0m     string_examples, embeddings, metadatas\u001b[39m=\u001b[39;49mexamples, \u001b[39m*\u001b[39;49m\u001b[39m*\u001b[39;49mvectorstore_cls_kwargs\n\u001b[1;32m     97\u001b[0m )\n\u001b[1;32m     98\u001b[0m \u001b[39mreturn\u001b[39;00m \u001b[39mcls\u001b[39m(vectorstore\u001b[39m=\u001b[39mvectorstore, k\u001b[39m=\u001b[39mk, input_keys\u001b[39m=\u001b[39minput_keys)\n",
      "File \u001b[0;32m/usr/local/lib/python3.8/dist-packages/langchain/vectorstores/chroma.py:567\u001b[0m, in \u001b[0;36mChroma.from_texts\u001b[0;34m(cls, texts, embedding, metadatas, ids, collection_name, persist_directory, client_settings, client, collection_metadata, **kwargs)\u001b[0m\n\u001b[1;32m    534\u001b[0m \u001b[39m@classmethod\u001b[39m\n\u001b[1;32m    535\u001b[0m \u001b[39mdef\u001b[39;00m \u001b[39mfrom_texts\u001b[39m(\n\u001b[1;32m    536\u001b[0m     \u001b[39mcls\u001b[39m: Type[Chroma],\n\u001b[0;32m   (...)\u001b[0m\n\u001b[1;32m    546\u001b[0m     \u001b[39m*\u001b[39m\u001b[39m*\u001b[39mkwargs: Any,\n\u001b[1;32m    547\u001b[0m ) \u001b[39m-\u001b[39m\u001b[39m>\u001b[39m Chroma:\n\u001b[1;32m    548\u001b[0m \u001b[39m    \u001b[39m\u001b[39m\"\"\"Create a Chroma vectorstore from a raw documents.\u001b[39;00m\n\u001b[1;32m    549\u001b[0m \n\u001b[1;32m    550\u001b[0m \u001b[39m    If a persist_directory is specified, the collection will be persisted there.\u001b[39;00m\n\u001b[0;32m   (...)\u001b[0m\n\u001b[1;32m    565\u001b[0m \u001b[39m        Chroma: Chroma vectorstore.\u001b[39;00m\n\u001b[1;32m    566\u001b[0m \u001b[39m    \"\"\"\u001b[39;00m\n\u001b[0;32m--> 567\u001b[0m     chroma_collection \u001b[39m=\u001b[39m \u001b[39mcls\u001b[39;49m(\n\u001b[1;32m    568\u001b[0m         collection_name\u001b[39m=\u001b[39;49mcollection_name,\n\u001b[1;32m    569\u001b[0m         embedding_function\u001b[39m=\u001b[39;49membedding,\n\u001b[1;32m    570\u001b[0m         persist_directory\u001b[39m=\u001b[39;49mpersist_directory,\n\u001b[1;32m    571\u001b[0m         client_settings\u001b[39m=\u001b[39;49mclient_settings,\n\u001b[1;32m    572\u001b[0m         client\u001b[39m=\u001b[39;49mclient,\n\u001b[1;32m    573\u001b[0m         collection_metadata\u001b[39m=\u001b[39;49mcollection_metadata,\n\u001b[1;32m    574\u001b[0m         \u001b[39m*\u001b[39;49m\u001b[39m*\u001b[39;49mkwargs,\n\u001b[1;32m    575\u001b[0m     )\n\u001b[1;32m    576\u001b[0m     chroma_collection\u001b[39m.\u001b[39madd_texts(texts\u001b[39m=\u001b[39mtexts, metadatas\u001b[39m=\u001b[39mmetadatas, ids\u001b[39m=\u001b[39mids)\n\u001b[1;32m    577\u001b[0m     \u001b[39mreturn\u001b[39;00m chroma_collection\n",
      "File \u001b[0;32m/usr/local/lib/python3.8/dist-packages/langchain/vectorstores/chroma.py:80\u001b[0m, in \u001b[0;36mChroma.__init__\u001b[0;34m(self, collection_name, embedding_function, persist_directory, client_settings, collection_metadata, client, relevance_score_fn)\u001b[0m\n\u001b[1;32m     78\u001b[0m \u001b[39m\u001b[39m\u001b[39m\"\"\"Initialize with a Chroma client.\"\"\"\u001b[39;00m\n\u001b[1;32m     79\u001b[0m \u001b[39mtry\u001b[39;00m:\n\u001b[0;32m---> 80\u001b[0m     \u001b[39mimport\u001b[39;00m \u001b[39mchromadb\u001b[39;00m\n\u001b[1;32m     81\u001b[0m     \u001b[39mimport\u001b[39;00m \u001b[39mchromadb\u001b[39;00m\u001b[39m.\u001b[39;00m\u001b[39mconfig\u001b[39;00m\n\u001b[1;32m     82\u001b[0m \u001b[39mexcept\u001b[39;00m \u001b[39mImportError\u001b[39;00m:\n",
      "File \u001b[0;32m/usr/local/lib/python3.8/dist-packages/chromadb/__init__.py:77\u001b[0m\n\u001b[1;32m     75\u001b[0m             sys\u001b[39m.\u001b[39mmodules[\u001b[39m\"\u001b[39m\u001b[39msqlite3\u001b[39m\u001b[39m\"\u001b[39m] \u001b[39m=\u001b[39m sys\u001b[39m.\u001b[39mmodules\u001b[39m.\u001b[39mpop(\u001b[39m\"\u001b[39m\u001b[39mpysqlite3\u001b[39m\u001b[39m\"\u001b[39m)\n\u001b[1;32m     76\u001b[0m         \u001b[39melse\u001b[39;00m:\n\u001b[0;32m---> 77\u001b[0m             \u001b[39mraise\u001b[39;00m \u001b[39mRuntimeError\u001b[39;00m(\n\u001b[1;32m     78\u001b[0m                 \u001b[39m\"\u001b[39m\u001b[39m\\033\u001b[39;00m\u001b[39m[91mYour system has an unsupported version of sqlite3. Chroma requires sqlite3 >= 3.35.0.\u001b[39m\u001b[39m\\033\u001b[39;00m\u001b[39m[0m\u001b[39m\u001b[39m\\n\u001b[39;00m\u001b[39m\"\u001b[39m\n\u001b[1;32m     79\u001b[0m                 \u001b[39m\"\u001b[39m\u001b[39m\\033\u001b[39;00m\u001b[39m[94mPlease visit https://docs.trychroma.com/troubleshooting#sqlite to learn how to upgrade.\u001b[39m\u001b[39m\\033\u001b[39;00m\u001b[39m[0m\u001b[39m\u001b[39m\"\u001b[39m\n\u001b[1;32m     80\u001b[0m             )\n\u001b[1;32m     83\u001b[0m \u001b[39mdef\u001b[39;00m \u001b[39mconfigure\u001b[39m(\u001b[39m*\u001b[39m\u001b[39m*\u001b[39mkwargs) \u001b[39m-\u001b[39m\u001b[39m>\u001b[39m \u001b[39mNone\u001b[39;00m:  \u001b[39m# type: ignore\u001b[39;00m\n\u001b[1;32m     84\u001b[0m \u001b[39m    \u001b[39m\u001b[39m\"\"\"Override Chroma's default settings, environment variables or .env files\"\"\"\u001b[39;00m\n",
      "\u001b[0;31mRuntimeError\u001b[0m: \u001b[91mYour system has an unsupported version of sqlite3. Chroma requires sqlite3 >= 3.35.0.\u001b[0m\n\u001b[94mPlease visit https://docs.trychroma.com/troubleshooting#sqlite to learn how to upgrade.\u001b[0m"
     ]
    }
   ],
   "source": [
    "# Step 1: Prepare Examples\n",
    "\n",
    "# Examples of a pretend task of creating antonyms.\n",
    "examples_1 = [\n",
    "{\"input\": \"happy\", \"task\":\"in antonym\", \"output\": \"sad\"},\n",
    "{\"input\": \"tall\", \"task\":\"in antonym\", \"output\": \"short\"},\n",
    "{\"input\": \"energetic\", \"task\":\"in antonym\", \"output\": \"lethargic\"},\n",
    "{\"input\": \"sunny\", \"task\":\"in antonym\", \"output\": \"gloomy\"},\n",
    "{\"input\": \"windy\", \"task\":\"in antonym\", \"output\": \"calm\"},\n",
    "]\n",
    "# Examples of a fictional translation task.\n",
    "examples_2 = [\n",
    "{\"input\": \"See Spot run.\", \"task\": \"in spanish\", \"output\": \"Ver correr a Spot.\"},\n",
    "{\"input\": \"My dog barks.\", \"task\": \"in spanish\", \"output\": \"Mi perro ladra.\"},\n",
    "{\"input\": \"Spot can run.\", \"task\": \"in spanish\", \"output\": \"Spot puede correr.\"},\n",
    "]\n",
    "\n",
    "# Step 2: Define Prompt Template\n",
    "# 2. We define prompt for examples.\n",
    "from langchain.prompts import PromptTemplate\n",
    "example_prompt = PromptTemplate(\n",
    "    input_variables=['input', 'task', 'output'],\n",
    "    template=\"Input: {input} --> {task}\\nOutput: {output}\"\n",
    ")\n",
    "\n",
    "# Step 3: Define Example Selector\n",
    "# 3.1 we define semantic-similarity-example-selector\n",
    "# 3.2 we define maximal-relevance-example-sampler\n",
    "# 3.3 we define n-gram-overlap-example-sampler\n",
    "# 3.4 we define length-based-example-sampler\n",
    "# 3.5 we define custom-example-sampler\n",
    "# 위에서 본 5가지 중 한가지 선택하면 됨\n",
    "\n",
    "sms_sampler = SemanticSimilarityExampleSelector.from_examples(\n",
    "    examples, \n",
    "    OpenAIEmbeddings(), \n",
    "    Chroma, # FAISS\n",
    "    k=1\n",
    ")\n",
    "\n",
    "\n",
    "# Step 4: Assemble examples, prompt template, and example sampler\n",
    "# 4. We assemble sampler and prompt into few-shot-prompt-template for dynamic prompting\n",
    "from langchain.prompts import FewShotPromptTemplate\n",
    "def dynamic_prompt(sampler, example_prompt):\n",
    "    return FewShotPromptTemplate(\n",
    "        example_selector=sampler,\n",
    "        example_prompt=example_prompt,\n",
    "        prefix=\"Here are some examples related to the query!\\n\"\n",
    "        ,\n",
    "        suffix=\n",
    "        \"{query}:\\nOutput: \",\n",
    "        input_variables=[\"query\"]\n",
    "    )\n",
    "    \n",
    "# Step.5 Generate A Dynamic Prompt\n",
    "# 5. Generate a prompt associated with an input query.\n",
    "user_query = \"windy in spanish\"\n",
    "# sms_sampler: 위에서 본 샘플러 중 하나 (아마 시맨틱 시뮬러리티 샘플러 쓴 듯)\n",
    "prompt = dynamic_prompt(sms_sampler, example_prompt).format(query=user_query)\n",
    "print(prompt)\n",
    "\n",
    "'''\n",
    "Here are some examples related to the query!\n",
    "Input: windy --> in antonym\n",
    "Output: calm\n",
    "Input: My dog barks. --> in spanish\n",
    "Output: Mi perro ladra.\n",
    "windy in spanish:\n",
    "Output:\n",
    "'''\n"
   ]
  },
  {
   "cell_type": "markdown",
   "metadata": {},
   "source": [
    "### Composition – Pipeline Prompt\n",
    "프롬프트 여러개 섞기\n",
    "full_prompt = PromptTemplate.from_template(\"\"\"{introduction}\n",
    "\n",
    "{example}\n",
    "{start}\"\"\")\n",
    "\n",
    "여기 {} 섹션 안에 채워 넣는 듯"
   ]
  },
  {
   "cell_type": "markdown",
   "metadata": {},
   "source": [
    "Output Parser\n",
    "프롬프팅 할 때, 어떤 출력으로 할 지도 프롬프팅 가능함\n",
    "가령, 딕셔너리나 리스트 형태로 출력해달라는지\n",
    "특정 형태로 출력해달라고 하고, 답이 오면 파싱해서 파이썬에서 사용 가능한 형태로?"
   ]
  },
  {
   "cell_type": "markdown",
   "metadata": {},
   "source": [
    "pydantic output parser example\n",
    "\n",
    "출력을 파이썬 클래스로 파싱해가지고 출력 받을 수도 있음\n",
    "내가 원하는 포멧으로 받을 수 있다."
   ]
  }
 ],
 "metadata": {
  "kernelspec": {
   "display_name": "Python 3",
   "language": "python",
   "name": "python3"
  },
  "language_info": {
   "codemirror_mode": {
    "name": "ipython",
    "version": 3
   },
   "file_extension": ".py",
   "mimetype": "text/x-python",
   "name": "python",
   "nbconvert_exporter": "python",
   "pygments_lexer": "ipython3",
   "version": "3.8.10"
  }
 },
 "nbformat": 4,
 "nbformat_minor": 2
}
